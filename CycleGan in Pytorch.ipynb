{
 "cells": [
  {
   "cell_type": "markdown",
   "metadata": {},
   "source": [
    "## introduction ##\n",
    "In 2018, Jun-Yan Zhu, Taesung Park, Phillip Isola Alexei and A. Efros presented a paper called \"Unpaired Image-to-Image Translation using Cycle-Consistent Adversarial Networks\"  [here](https://arxiv.org/pdf/1703.10593.pdf). The objective is to transfer an image from a domain X to a domain Y, for instance day to night or apple to orange. More precisely, they present an approach for learning to translate an image from a source domain X to a target domain Y in the absence of paired examples. This is innteresting as collecting a dataset of paired images is not an easy task. "
   ]
  },
  {
   "cell_type": "code",
   "execution_count": 1,
   "metadata": {},
   "outputs": [
    {
     "data": {
      "text/html": [
       "<img src=\"./imgs/paired.png\" width=\"300\" height=\"100\"/>"
      ],
      "text/plain": [
       "<IPython.core.display.Image object>"
      ]
     },
     "execution_count": 1,
     "metadata": {},
     "output_type": "execute_result"
    }
   ],
   "source": [
    "from IPython.display import Image\n",
    "from IPython.core.display import HTML \n",
    "Image(url= \"./imgs/paired.png\",width=300, height=100)"
   ]
  },
  {
   "cell_type": "markdown",
   "metadata": {},
   "source": [
    "# 1. CycleGan architecture#\n",
    "The architecture is very similar to the one we used in DiscoGan paper [in previous jupyter](https://github.com/john7002/DISCO-GAN/blob/master/Exploring%20cross%20domains%20relations%20with%20DiscoGAN.ipynb): 2 Generators, 2 discrimators and a cycle loss, which is actually how to get back to the initial image : "
   ]
  },
  {
   "cell_type": "code",
   "execution_count": 2,
   "metadata": {},
   "outputs": [
    {
     "data": {
      "text/html": [
       "<img src=\"./imgs/architecture.png\" width=\"500\" height=\"250\"/>"
      ],
      "text/plain": [
       "<IPython.core.display.Image object>"
      ]
     },
     "execution_count": 2,
     "metadata": {},
     "output_type": "execute_result"
    }
   ],
   "source": [
    "Image(url= \"./imgs/architecture.png\",width=500, height=250)"
   ]
  },
  {
   "cell_type": "markdown",
   "metadata": {},
   "source": [
    "We will hence implement:\n",
    "* 2 generators G<sub>XY</sub> and F<sub>YX</sub>\n",
    "* 2 discrimators D<sub>Y</sub> (looking to discern between y and generated images G(x)) and D<sub>X</sub> (looking to discern between x and generated images F(y))\n",
    "* the cycle-consistency loss which is how close the generated y<sub>2</sub> in  G<sub>XY</sub>(F<sub>YX</sub>(y))=y<sub>2</sub> is close to initial image y.\n",
    "\n",
    "At the end the total loss L = L<sub>GAN</sub>(G,D<sub>y</sub>,X,Y) + L<sub>GAN</sub>(F,D<sub>x</sub>,Y,X) + λ. L<sub>cycle</sub>(G,F)\n",
    "where λ give importance to the cycle-consistency loss."
   ]
  },
  {
   "cell_type": "markdown",
   "metadata": {},
   "source": [
    "# 1. CycleGan architecture#\n",
    "They adopt the architecture for our generative networks from Johnson et al. [23] who have\n",
    "shown impressive results for neural style transfer and super-resolution. This network contains two stride-2 convolu-\n",
    "tions, several residual blocks, and two fractionally-strided convolutions with stride 1 . They use 6 blocks for 2\n",
    "128 × 128 images and 9 blocks for 256 × 256 and higher- resolution training images.We will use instance normalization. For the discriminator networks we use 70 × 70 PatchGANs, which aim to classify whether 70 × 70 overlapping image patches are real or fake. Such a patch-level discriminator architecture has fewer parameters than a full-image discriminator and can work on arbitrarily-sized images in a fully convolutional fashion "
   ]
  },
  {
   "cell_type": "markdown",
   "metadata": {},
   "source": [
    "## 1.1 Generator class ##\n",
    "Let's implement a class to create two generators and try to train with the Monet2Photo dataset(256x256). We will use 9 residual blocks. The network with 9 residual blocks consists of:<br>\n",
    "\n",
    "<div style = \"background-color:lightgrey; width:600px; height:50px; line-height:50px;\">\n",
    "    <i><center> c7s1-64,d128,d256,R256,R256,R256,R256,R256,R256,R256,R256,R256,u128,u64,c7s1-3</center></i>\n",
    "</div>\n",
    "\n",
    "As noted in the paper, we will use the notation from Johnson et al. Let c7s1-k denote a 7 × 7 Convolution-InstanceNorm- ReLU layer with k filters and stride 1. dk denotes a 3 × 3 Convolution-InstanceNorm-ReLU layer with k filters and stride 2. Reflection padding was used to reduce artifacts. Rk denotes a residual block that contains two 3 × 3 convolutional layers with the same number of filters on both layer. uk denotes a 3 × 3 fractional-strided-Convolution- InstanceNorm-ReLU layer with k filters and stride 2 .\n",
    "Graphically, it looks like this:"
   ]
  },
  {
   "cell_type": "markdown",
   "metadata": {},
   "source": [
    "<img src=\"./imgs/cyclegan-gen.png\" width=\"850\" height=\"400\">"
   ]
  },
  {
   "cell_type": "markdown",
   "metadata": {},
   "source": [
    "The network needs 9 residual blocks. To do so, we need to declare a class ResnetBlock which is just a sum (made in the forward method) of the input layer and the l+2 layer as defined in the image below. These blocks are efficient to decrease the vaninshing gradient.\n"
   ]
  },
  {
   "cell_type": "code",
   "execution_count": 3,
   "metadata": {},
   "outputs": [
    {
     "data": {
      "text/html": [
       "<img src=\"./imgs/resnet.png\" width=\"500\" height=\"250\"/>"
      ],
      "text/plain": [
       "<IPython.core.display.Image object>"
      ]
     },
     "execution_count": 3,
     "metadata": {},
     "output_type": "execute_result"
    }
   ],
   "source": [
    "Image(url= \"./imgs/resnet.png\",width=500, height=250)\n"
   ]
  },
  {
   "cell_type": "code",
   "execution_count": 4,
   "metadata": {},
   "outputs": [],
   "source": [
    "import torch.nn as nn\n",
    "import torch.nn.functional as F\n",
    "import torchvision\n",
    "from torchsummary import summary\n",
    "import torchvision.transforms as transforms\n",
    "import torchvision\n",
    "import torch.optim as optim\n",
    "import numpy as np\n",
    "from torch.autograd.variable import Variable\n",
    "import torch"
   ]
  },
  {
   "cell_type": "code",
   "execution_count": 5,
   "metadata": {},
   "outputs": [],
   "source": [
    "class ResnetBlock(nn.Module):\n",
    "    \"\"\"Define a Resnet block\"\"\"\n",
    "\n",
    "    def __init__(self, dim, use_dropout):\n",
    "        \"\"\"Initialize the Resnet block\n",
    "        A resnet block is a conv block with skip connections\n",
    "\"\"\"       \n",
    "        super(ResnetBlock, self).__init__()\n",
    "        self.conv_block = self.build_conv_block(dim, use_dropout)\n",
    "\n",
    "    def build_conv_block(self, dim, use_dropout):\n",
    "        \"\"\"Construct a convolutional block.\n",
    "        Parameters:\n",
    "            dim (int)           -- the number of channels in the conv layer.\n",
    "            padding_type (str)  -- the name of padding layer: reflect | replicate | zero\n",
    "            norm_layer          -- normalization layer\n",
    "            use_dropout (bool)  -- if use dropout layers.\n",
    "        Returns a conv block (with a conv layer, a normalization layer, and a non-linearity layer (ReLU))\n",
    "        \"\"\"\n",
    "        conv_block = []\n",
    "        conv_block += [nn.ReflectionPad2d(1)]\n",
    "        conv_block += [nn.Conv2d(dim, dim, kernel_size=3, padding=0), nn.InstanceNorm2d(dim), nn.ReLU(True)]\n",
    "        if use_dropout:\n",
    "            conv_block += [nn.Dropout(0.5)]\n",
    "\n",
    "        conv_block += [nn.ReflectionPad2d(1)]\n",
    "\n",
    "        conv_block += [nn.Conv2d(dim, dim, kernel_size=3, padding=0), nn.InstanceNorm2d(dim)]\n",
    "\n",
    "        return nn.Sequential(*conv_block)\n",
    "\n",
    "    def forward(self, x):\n",
    "        \"\"\"Forward function (with skip connections)\"\"\"\n",
    "        out = x + self.conv_block(x)  # add skip connections\n",
    "        return out"
   ]
  },
  {
   "cell_type": "markdown",
   "metadata": {},
   "source": [
    "And here is the generator:"
   ]
  },
  {
   "cell_type": "code",
   "execution_count": 6,
   "metadata": {},
   "outputs": [
    {
     "name": "stdout",
     "output_type": "stream",
     "text": [
      "----------------------------------------------------------------\n",
      "        Layer (type)               Output Shape         Param #\n",
      "================================================================\n",
      "   ReflectionPad2d-1          [-1, 3, 262, 262]               0\n",
      "            Conv2d-2         [-1, 64, 256, 256]           9,472\n",
      "    InstanceNorm2d-3         [-1, 64, 256, 256]               0\n",
      "              ReLU-4         [-1, 64, 256, 256]               0\n",
      "            Conv2d-5        [-1, 128, 128, 128]          73,856\n",
      "    InstanceNorm2d-6        [-1, 128, 128, 128]               0\n",
      "              ReLU-7        [-1, 128, 128, 128]               0\n",
      "            Conv2d-8          [-1, 256, 64, 64]         295,168\n",
      "    InstanceNorm2d-9          [-1, 256, 64, 64]               0\n",
      "             ReLU-10          [-1, 256, 64, 64]               0\n",
      "  ReflectionPad2d-11          [-1, 256, 66, 66]               0\n",
      "           Conv2d-12          [-1, 256, 64, 64]         590,080\n",
      "   InstanceNorm2d-13          [-1, 256, 64, 64]               0\n",
      "             ReLU-14          [-1, 256, 64, 64]               0\n",
      "  ReflectionPad2d-15          [-1, 256, 66, 66]               0\n",
      "           Conv2d-16          [-1, 256, 64, 64]         590,080\n",
      "   InstanceNorm2d-17          [-1, 256, 64, 64]               0\n",
      "      ResnetBlock-18          [-1, 256, 64, 64]               0\n",
      "  ReflectionPad2d-19          [-1, 256, 66, 66]               0\n",
      "           Conv2d-20          [-1, 256, 64, 64]         590,080\n",
      "   InstanceNorm2d-21          [-1, 256, 64, 64]               0\n",
      "             ReLU-22          [-1, 256, 64, 64]               0\n",
      "  ReflectionPad2d-23          [-1, 256, 66, 66]               0\n",
      "           Conv2d-24          [-1, 256, 64, 64]         590,080\n",
      "   InstanceNorm2d-25          [-1, 256, 64, 64]               0\n",
      "      ResnetBlock-26          [-1, 256, 64, 64]               0\n",
      "  ReflectionPad2d-27          [-1, 256, 66, 66]               0\n",
      "           Conv2d-28          [-1, 256, 64, 64]         590,080\n",
      "   InstanceNorm2d-29          [-1, 256, 64, 64]               0\n",
      "             ReLU-30          [-1, 256, 64, 64]               0\n",
      "  ReflectionPad2d-31          [-1, 256, 66, 66]               0\n",
      "           Conv2d-32          [-1, 256, 64, 64]         590,080\n",
      "   InstanceNorm2d-33          [-1, 256, 64, 64]               0\n",
      "      ResnetBlock-34          [-1, 256, 64, 64]               0\n",
      "  ReflectionPad2d-35          [-1, 256, 66, 66]               0\n",
      "           Conv2d-36          [-1, 256, 64, 64]         590,080\n",
      "   InstanceNorm2d-37          [-1, 256, 64, 64]               0\n",
      "             ReLU-38          [-1, 256, 64, 64]               0\n",
      "  ReflectionPad2d-39          [-1, 256, 66, 66]               0\n",
      "           Conv2d-40          [-1, 256, 64, 64]         590,080\n",
      "   InstanceNorm2d-41          [-1, 256, 64, 64]               0\n",
      "      ResnetBlock-42          [-1, 256, 64, 64]               0\n",
      "  ReflectionPad2d-43          [-1, 256, 66, 66]               0\n",
      "           Conv2d-44          [-1, 256, 64, 64]         590,080\n",
      "   InstanceNorm2d-45          [-1, 256, 64, 64]               0\n",
      "             ReLU-46          [-1, 256, 64, 64]               0\n",
      "  ReflectionPad2d-47          [-1, 256, 66, 66]               0\n",
      "           Conv2d-48          [-1, 256, 64, 64]         590,080\n",
      "   InstanceNorm2d-49          [-1, 256, 64, 64]               0\n",
      "      ResnetBlock-50          [-1, 256, 64, 64]               0\n",
      "  ReflectionPad2d-51          [-1, 256, 66, 66]               0\n",
      "           Conv2d-52          [-1, 256, 64, 64]         590,080\n",
      "   InstanceNorm2d-53          [-1, 256, 64, 64]               0\n",
      "             ReLU-54          [-1, 256, 64, 64]               0\n",
      "  ReflectionPad2d-55          [-1, 256, 66, 66]               0\n",
      "           Conv2d-56          [-1, 256, 64, 64]         590,080\n",
      "   InstanceNorm2d-57          [-1, 256, 64, 64]               0\n",
      "      ResnetBlock-58          [-1, 256, 64, 64]               0\n",
      "  ReflectionPad2d-59          [-1, 256, 66, 66]               0\n",
      "           Conv2d-60          [-1, 256, 64, 64]         590,080\n",
      "   InstanceNorm2d-61          [-1, 256, 64, 64]               0\n",
      "             ReLU-62          [-1, 256, 64, 64]               0\n",
      "  ReflectionPad2d-63          [-1, 256, 66, 66]               0\n",
      "           Conv2d-64          [-1, 256, 64, 64]         590,080\n",
      "   InstanceNorm2d-65          [-1, 256, 64, 64]               0\n",
      "      ResnetBlock-66          [-1, 256, 64, 64]               0\n",
      "  ReflectionPad2d-67          [-1, 256, 66, 66]               0\n",
      "           Conv2d-68          [-1, 256, 64, 64]         590,080\n",
      "   InstanceNorm2d-69          [-1, 256, 64, 64]               0\n",
      "             ReLU-70          [-1, 256, 64, 64]               0\n",
      "  ReflectionPad2d-71          [-1, 256, 66, 66]               0\n",
      "           Conv2d-72          [-1, 256, 64, 64]         590,080\n",
      "   InstanceNorm2d-73          [-1, 256, 64, 64]               0\n",
      "      ResnetBlock-74          [-1, 256, 64, 64]               0\n",
      "  ReflectionPad2d-75          [-1, 256, 66, 66]               0\n",
      "           Conv2d-76          [-1, 256, 64, 64]         590,080\n",
      "   InstanceNorm2d-77          [-1, 256, 64, 64]               0\n",
      "             ReLU-78          [-1, 256, 64, 64]               0\n",
      "  ReflectionPad2d-79          [-1, 256, 66, 66]               0\n",
      "           Conv2d-80          [-1, 256, 64, 64]         590,080\n",
      "   InstanceNorm2d-81          [-1, 256, 64, 64]               0\n",
      "      ResnetBlock-82          [-1, 256, 64, 64]               0\n",
      "  ConvTranspose2d-83        [-1, 128, 128, 128]         294,912\n",
      "   InstanceNorm2d-84        [-1, 128, 128, 128]               0\n",
      "             ReLU-85        [-1, 128, 128, 128]               0\n",
      "  ConvTranspose2d-86         [-1, 64, 256, 256]          73,728\n",
      "   InstanceNorm2d-87         [-1, 64, 256, 256]               0\n",
      "             ReLU-88         [-1, 64, 256, 256]               0\n",
      "  ReflectionPad2d-89         [-1, 64, 262, 262]               0\n",
      "           Conv2d-90          [-1, 3, 256, 256]           9,411\n",
      "   InstanceNorm2d-91          [-1, 3, 256, 256]               0\n",
      "             Tanh-92          [-1, 3, 256, 256]               0\n",
      "================================================================\n",
      "Total params: 11,377,987\n",
      "Trainable params: 11,377,987\n",
      "Non-trainable params: 0\n",
      "----------------------------------------------------------------\n",
      "Input size (MB): 0.75\n",
      "Forward/backward pass size (MB): 936.73\n",
      "Params size (MB): 43.40\n",
      "Estimated Total Size (MB): 980.88\n",
      "----------------------------------------------------------------\n"
     ]
    }
   ],
   "source": [
    "picture_nb_chanels = 3\n",
    "class Generator(nn.Module):\n",
    "    def __init__(self, ngpu):\n",
    "        super(Generator, self).__init__()\n",
    "        self.ngpu = ngpu # number of GPUs available. If this is 0, code will run in CPU mode. If this number is greater than 0 it will run on that number of GPUs\n",
    "        \n",
    "        self.main = nn.Sequential(\n",
    "            \n",
    "            nn.ReflectionPad2d(3), # reflection padding for artifact => create 256+3+3 x 256+3+3 images\n",
    "            # 1st convolution layer, input image is 262x262x3, c7s1-64: 64 filter 7x7, stride 1, instanceNorm+Relu\n",
    "            nn.Conv2d(in_channels=3, out_channels=64,kernel_size=7,stride =1,padding = 0),  \n",
    "            #padding = 0 (valid) =>  out = n-f+1 = 262 - 7 + 1 = 256\n",
    "            nn.InstanceNorm2d(64),\n",
    "            nn.ReLU(), #out is -1,64,256,256   \n",
    "            \n",
    "            \n",
    "            # 2nd convolution layer, d128 same as previous with 128 kernels of size 3 and stride 2\n",
    "            nn.Conv2d(in_channels=64, out_channels=128,kernel_size=3,stride =2,padding = 1),  \n",
    "            #out: (n+2p-f)/2 +1 => 256+2-3 /2 +1 = 128,5 = 128 ( take the round)\n",
    "            nn.InstanceNorm2d(128),\n",
    "            nn.ReLU(), #out is -1,128,128,128\n",
    "            \n",
    "            # 3rd convolution layer, d256 same as previous with 256\n",
    "            nn.Conv2d(in_channels=128, out_channels=256,kernel_size=3,stride =2,padding = 1),  \n",
    "            #out: (n+2p-f)/2 +1 => 128+2-3 /2 +1 = 64,5 = 64\n",
    "            nn.InstanceNorm2d(256),\n",
    "            nn.ReLU(), #out is -1,256,64,64  \n",
    "            \n",
    "            # 9 Resnet block R256: two 3 × 3 convolutional layers with the same number of filters on both layer\n",
    "            ResnetBlock(256,use_dropout=0),\n",
    "            ResnetBlock(256,use_dropout=0),\n",
    "            ResnetBlock(256,use_dropout=0),\n",
    "            ResnetBlock(256,use_dropout=0),\n",
    "            ResnetBlock(256,use_dropout=0),\n",
    "            ResnetBlock(256,use_dropout=0),\n",
    "            ResnetBlock(256,use_dropout=0),\n",
    "            ResnetBlock(256,use_dropout=0),\n",
    "            ResnetBlock(256,use_dropout=0),\n",
    "            \n",
    "            #1st T_convolution layer u128 denotes a 3 × 3 fractional-strided-Convolution- InstanceNorm-ReLU layer with 128 filters and stride 1\n",
    "            nn.ConvTranspose2d(in_channels=256, out_channels=128, kernel_size=3, stride=2, padding=1, bias = False,output_padding=1),\n",
    "            # The output of convTranspose2d is o = (i -1)*s - 2*p + f + output_padding => (64-1)*2 - 2*1 + 3 +1 = 128 \n",
    "            nn.InstanceNorm2d(128),\n",
    "            nn.ReLU(), #out is -1,128,128,128\n",
    "            \n",
    "            #2nd T_convolution layer u64 \n",
    "            nn.ConvTranspose2d(in_channels=128, out_channels=64, kernel_size=3, stride=2, padding=1, bias = False,output_padding=1),\n",
    "            # The output of convTranspose2d is o = (i -1)*s - 2*p + f + output_padding => (128-1)*2 - 2*1 + 3 +1 = 256 \n",
    "            nn.InstanceNorm2d(128),\n",
    "            nn.ReLU(), #out is -1,64,256,256\n",
    "            \n",
    "            \n",
    "            nn.ReflectionPad2d(3), # reflection padding for artifact => create 256+3+3 x 256+3+3 images\n",
    "            \n",
    "            #Last convolution layer c7s1-3 : 3 filters 7x7, stride1\n",
    "            nn.Conv2d(in_channels=64, out_channels=3,kernel_size=7,stride =1,padding = 0),  \n",
    "            #padding = 0 (valid) =>  out = n-f+1 = 262 - 7 + 1 = 256\n",
    "            nn.InstanceNorm2d(64),\n",
    "            nn.Tanh(), #out is -1,3,256,256   \n",
    "            \n",
    "            \n",
    "            \n",
    "        )\n",
    "    def forward(self, input):\n",
    "        return self.main(input)\n",
    "        \n",
    "        \n",
    "   \n",
    "net = Generator(ngpu=0)\n",
    "#net.cuda() if compiled with gpu\n",
    "\n",
    "summary(net, ( 3, 256, 256))"
   ]
  },
  {
   "cell_type": "markdown",
   "metadata": {},
   "source": [
    "Regarding reflectionPad, here is an example on how it works"
   ]
  },
  {
   "cell_type": "code",
   "execution_count": 7,
   "metadata": {},
   "outputs": [
    {
     "name": "stdout",
     "output_type": "stream",
     "text": [
      "tensor([[[[0., 1., 2.],\n",
      "          [3., 4., 5.],\n",
      "          [6., 7., 8.]]]])\n"
     ]
    },
    {
     "data": {
      "text/plain": [
       "tensor([[[[8., 7., 6., 7., 8., 7., 6.],\n",
       "          [5., 4., 3., 4., 5., 4., 3.],\n",
       "          [2., 1., 0., 1., 2., 1., 0.],\n",
       "          [5., 4., 3., 4., 5., 4., 3.],\n",
       "          [8., 7., 6., 7., 8., 7., 6.],\n",
       "          [5., 4., 3., 4., 5., 4., 3.],\n",
       "          [2., 1., 0., 1., 2., 1., 0.]]]])"
      ]
     },
     "execution_count": 7,
     "metadata": {},
     "output_type": "execute_result"
    }
   ],
   "source": [
    "m = nn.ReflectionPad2d(2)\n",
    "import torch\n",
    "input = torch.arange(9, dtype=torch.float).reshape(1, 1, 3, 3)\n",
    "print(input)\n",
    "m(input)"
   ]
  },
  {
   "cell_type": "markdown",
   "metadata": {},
   "source": [
    "Let's try to generate a picture with a real image as input :"
   ]
  },
  {
   "cell_type": "code",
   "execution_count": 8,
   "metadata": {},
   "outputs": [
    {
     "name": "stdout",
     "output_type": "stream",
     "text": [
      "torch.Size([1, 3, 256, 256])\n",
      "torch.Size([3, 256, 256])\n"
     ]
    },
    {
     "data": {
      "image/png": "[encoded data removed]",
      "text/plain": [
       "<Figure size 432x288 with 2 Axes>"
      ]
     },
     "metadata": {},
     "output_type": "display_data"
    }
   ],
   "source": [
    "%matplotlib inline\n",
    "import matplotlib.pyplot as plt\n",
    "\n",
    "\n",
    "from PIL import Image\n",
    "import torchvision.transforms.functional as TF\n",
    "\n",
    "image = Image.open(\"./monet2photo/trainA/00596.jpg\")\n",
    "x = TF.to_tensor(image)\n",
    "x.unsqueeze_(0)\n",
    "print(x.shape)\n",
    "\n",
    "gen = Generator(0)\n",
    "generated_images = gen(x)\n",
    "print(generated_images[0].shape)\n",
    "trans = transforms.ToPILImage()\n",
    "pic = trans(generated_images[0])\n",
    "\n",
    "#generated_images = generated_images.detach().numpy()\n",
    "\n",
    "#print(pic.shape)\n",
    "plt.subplot(1, 2, 1)\n",
    "plt.imshow(image)\n",
    "plt.title('Original picture')\n",
    "\n",
    "plt.subplot(1, 2, 2)\n",
    "plt.imshow(pic)\n",
    "plt.title('Generated picture')\n",
    "plt.show()"
   ]
  },
  {
   "cell_type": "markdown",
   "metadata": {},
   "source": [
    "Great, we have the generator ready!"
   ]
  },
  {
   "cell_type": "markdown",
   "metadata": {},
   "source": [
    "## 1.2 Discriminator ##"
   ]
  },
  {
   "cell_type": "markdown",
   "metadata": {},
   "source": [
    "For discriminator networks, we use 70 × 70 PatchGAN. Let Ck denote a 4 × 4 Convolution-InstanceNorm-LeakyReLU layer with k filters and stride 2. After the last layer, we apply a convo- lution to produce a 1-dimensional output. We do not use InstanceNorm for the first C64 layer. We use leaky ReLUs with a slope of 0.2. The discriminator architecture is:\n",
    "<div style = \"background-color:lightgrey; width:400px; height:50px; line-height:50px;\">\n",
    "    <i><center> C64-C128-C256-C512</center></i>\n",
    "</div>\n",
    "\n",
    "<img src=\"./imgs/cyclegan_disc.png\" width=\"850\" height=\"350\">"
   ]
  },
  {
   "cell_type": "code",
   "execution_count": 9,
   "metadata": {},
   "outputs": [
    {
     "name": "stdout",
     "output_type": "stream",
     "text": [
      "----------------------------------------------------------------\n",
      "        Layer (type)               Output Shape         Param #\n",
      "================================================================\n",
      "            Conv2d-1         [-1, 64, 128, 128]           3,136\n",
      "         LeakyReLU-2         [-1, 64, 128, 128]               0\n",
      "            Conv2d-3          [-1, 128, 64, 64]         131,200\n",
      "    InstanceNorm2d-4          [-1, 128, 64, 64]               0\n",
      "         LeakyReLU-5          [-1, 128, 64, 64]               0\n",
      "            Conv2d-6          [-1, 256, 32, 32]         524,544\n",
      "    InstanceNorm2d-7          [-1, 256, 32, 32]               0\n",
      "         LeakyReLU-8          [-1, 256, 32, 32]               0\n",
      "            Conv2d-9          [-1, 512, 31, 31]       2,097,664\n",
      "   InstanceNorm2d-10          [-1, 512, 31, 31]               0\n",
      "        LeakyReLU-11          [-1, 512, 31, 31]               0\n",
      "        ZeroPad2d-12          [-1, 512, 32, 32]               0\n",
      "           Conv2d-13            [-1, 1, 16, 16]           8,193\n",
      "================================================================\n",
      "Total params: 2,764,737\n",
      "Trainable params: 2,764,737\n",
      "Non-trainable params: 0\n",
      "----------------------------------------------------------------\n",
      "Input size (MB): 0.75\n",
      "Forward/backward pass size (MB): 49.26\n",
      "Params size (MB): 10.55\n",
      "Estimated Total Size (MB): 60.56\n",
      "----------------------------------------------------------------\n"
     ]
    }
   ],
   "source": [
    "picture_nb_chanels = 1\n",
    "class Discriminator(nn.Module):\n",
    "    def __init__(self, ngpu):\n",
    "        super(Discriminator, self).__init__()\n",
    "        self.ngpu = ngpu # number of GPUs available. If this is 0, code will run in CPU mode. If this number is greater than 0 it will run on that number of GPUs\n",
    "        self.main = nn.Sequential(\n",
    "        \n",
    "        # 1st convolution layer C64\n",
    "        nn.Conv2d(in_channels=3, out_channels=64,kernel_size=4,stride =2,padding = 1),  \n",
    "        #out: (n+2p-f)/2 +1 => (256 +2*1 -4) /2 +1 = 31/2 +1 = 128\n",
    "        #nn.InstanceNorm2d(128), no norm on 1st layer\n",
    "        nn.LeakyReLU(0.02), #out is -1,64,128,128    \n",
    "    \n",
    "        # 2nd convolution layer C128\n",
    "        nn.Conv2d(in_channels=64, out_channels=128,kernel_size=4,stride =2,padding = 1),  \n",
    "        #out: (n+2p-f)/2 +1 => (128 +2*1 -4) /2 +1 = 31 +1 = 64\n",
    "        nn.InstanceNorm2d(128),\n",
    "        nn.LeakyReLU(0.02), #out is -1,128,64,64\n",
    "            \n",
    "        # 3nd convolution layer C256\n",
    "        nn.Conv2d(in_channels=128, out_channels=256,kernel_size=4,stride =2,padding = 1),  \n",
    "        #out: (n+2p-f)/2 +1 => (64 +2*1 -4) /2 +1 = 32\n",
    "        nn.InstanceNorm2d(256),\n",
    "        nn.LeakyReLU(0.02), #out is -1,256,32,32\n",
    "            \n",
    "        # 4th convolution layer C512\n",
    "        nn.Conv2d(in_channels=256, out_channels=512,kernel_size=4,stride =1,padding = 1),  \n",
    "        #out: (n+2p-f)/s +1 => (32 +2*1 -4) /1 +1 = 31\n",
    "        nn.InstanceNorm2d(512),\n",
    "        nn.LeakyReLU(0.02), #out is -1,512,31,31\n",
    "            \n",
    "        nn.ZeroPad2d((1, 0, 1, 0)), # add a pading to get in final layer 16x16 patchgan\n",
    "            \n",
    "           \n",
    "        nn.Conv2d(in_channels=512, out_channels=1,kernel_size=4,stride =2,padding = 1),\n",
    "            #out: (n+2p-f)/s +1 => (32 +2*1 -4) /2 +1 = 16\n",
    "        )\n",
    "        \n",
    "    def forward(self, input):\n",
    "        return self.main(input)\n",
    "    \n",
    "net = Discriminator(ngpu=0)\n",
    "\n",
    "summary(net, ( 3, 256, 256))"
   ]
  },
  {
   "cell_type": "markdown",
   "metadata": {},
   "source": [
    "## 1.3 Weight intialisation ##"
   ]
  },
  {
   "cell_type": "markdown",
   "metadata": {},
   "source": [
    "In the paper, weights are initialized from a Gaussian distribution N(0, 0.02). We will finally try Kaiming for convolutional layer."
   ]
  },
  {
   "cell_type": "code",
   "execution_count": 10,
   "metadata": {},
   "outputs": [],
   "source": [
    "# custom weights initialization\n",
    "def weights_init(m):\n",
    "    classname = m.__class__.__name__\n",
    "    if classname.find('Conv') != -1:\n",
    "        nn.init.kaiming_normal_(m.weight.data, a=0, mode='fan_in')\n",
    "        #init.xavier_normal_(m.weight.data, gain=0.02)\n",
    "    elif classname.find('BatchNorm2d') != -1:\n",
    "        nn.init.normal_(m.weight.data, 1.0, 0.02)\n",
    "        nn.init.constant_(m.bias.data, 0)\n",
    "   "
   ]
  },
  {
   "cell_type": "markdown",
   "metadata": {},
   "source": [
    "# 2. Training implementation#"
   ]
  },
  {
   "cell_type": "markdown",
   "metadata": {},
   "source": [
    "As a reminder, our model is composed of 2 generators and 2 discriminators.\n",
    "We have one domain called X ( Monet drawings), and one target domain Y ( real pictures).\n",
    "We have 2 generators and 2 discriminators:\n",
    "<lu>\n",
    "    <li> $G_{XY}$: tranfer image from domain X to domain Y\n",
    "    </li>\n",
    "    <li> $G_{YX}$: tranfer image from domain Y to domain X\n",
    "    </li>\n",
    "    <li> $D_{X}$: Discriminator to discern real X of fake X ($G_{YX}$)\n",
    "    </li>\n",
    "    <li> $D_{Y}$: Discriminator to discern real Y of fake Y ($G_{XY}$)\n",
    "    </li>\n",
    "</lu>\n",
    "\n",
    "We are going to implement several losses:\n",
    "<lu>\n",
    "    <li> One adversial loss: L<sub>GAN</sub>(G<sub>XY</sub>,D<sub>Y</sub>,X,Y), in the paper they use least-square loss (L2) which is as they say <i>more stable during training and generates higher quality results</i>. $$Loss_GXY = \\frac{1}{m}\\sum_{i=1}^{m}(1-D_{Y}(G_{XY}(X))^2$$\n",
    "    </li>\n",
    "    <li> One adversial loss: L<sub>GAN</sub>(G<sub>YX</sub>,D<sub>X</sub>,X,Y): $$Loss_GYX = \\frac{1}{m}\\sum_{i=1}^{m}(1-D_{X}(G_{YX}(Y))^2$$\n",
    "    </li>\n",
    "    </lu>\n",
    "    \n",
    "   However, the adversarial loss alone is not sufficient to produce good images, as it leaves the model under-constrained. The cycle consistency loss addresses this issue. It relies on the expectation that if you convert an image to the other domain and back again, by successively feeding it through both generators, you should get back something similar to what you put in. It enforces that $G_{YX}(G_{XY}(X)) ≈ x$ and $G_{XY}(G_{YX}(Y)) ≈ y$. In the paper, L1 loss is used.\n",
    "   <lu>\n",
    "    <li>\n",
    "        $$LossCycleX = \\frac{1}{m}\\sum_{i=1}^{m}(G_{YX}(G_{XY}(X)) - X_{i})$$\n",
    "    </li>\n",
    "    <li>\n",
    "        $$LossCycleY = \\frac{1}{m}\\sum_{i=1}^{m}(G_{XY}(G_{YX}(Y)) - Y_{i})$$\n",
    "        </li>\n",
    "     </li>\n",
    "    </lu>\n",
    "\n",
    "The full objective is hence the sum of all previous loss: $LFull = Loss_GXY + Loss_GYX + \\lambda(LossCycleX + LossCycleY)$ where $\\lambda$ controls the relative importance of the two objectives.\n",
    "\n",
    "So far, except the $\\lambda$ term just introduced, the whole process is very close to DiscoGan architecture, but after further reading of the paper, they also intriduced another loss: the identity. <i> For painting→photo, we find that it is helpful to introduce an additional loss to encourage the mapping to preserve color composition between the input and output. In particular, we adopt the technique of Taigman et al. [49] and regularize the generator to be near an identity mapping when real samples of the target domain are provided as the input to the generator. </i> Here is a benchmark from the paper that clearly shows it helps keeping original color and texture.\n",
    "\n",
    "\n",
    "        "
   ]
  },
  {
   "cell_type": "markdown",
   "metadata": {},
   "source": [
    "<img src=\"./imgs/identity.png\" width=\"380\" height=\"200\">"
   ]
  },
  {
   "cell_type": "markdown",
   "metadata": {},
   "source": [
    "<lu>\n",
    "    <li>\n",
    "        $$LossIdentityX = \\frac{1}{m}\\sum_{i=1}^{m}((G_{YX}(X)) - X_{i})$$\n",
    "    </li>\n",
    "    <li>\n",
    "    $$LossIdentityY = \\frac{1}{m}\\sum_{i=1}^{m}((G_{XY}(Y)) - Y_{i})$$\n",
    "    </li>\n",
    "</ul>\n",
    "\n",
    "\n",
    "the loss is finally $LFull = Loss_GXY + Loss_GYX + \\lambda_1(LossCycleX + LossCycleY) + \\lambda_2(LossIdentityX + LossIdentityY) $"
   ]
  },
  {
   "cell_type": "markdown",
   "metadata": {},
   "source": [
    "## 2.1 Single implementation ##"
   ]
  },
  {
   "cell_type": "code",
   "execution_count": 11,
   "metadata": {},
   "outputs": [
    {
     "data": {
      "text/plain": [
       "Discriminator(\n",
       "  (main): Sequential(\n",
       "    (0): Conv2d(3, 64, kernel_size=(4, 4), stride=(2, 2), padding=(1, 1))\n",
       "    (1): LeakyReLU(negative_slope=0.02)\n",
       "    (2): Conv2d(64, 128, kernel_size=(4, 4), stride=(2, 2), padding=(1, 1))\n",
       "    (3): InstanceNorm2d(128, eps=1e-05, momentum=0.1, affine=False, track_running_stats=False)\n",
       "    (4): LeakyReLU(negative_slope=0.02)\n",
       "    (5): Conv2d(128, 256, kernel_size=(4, 4), stride=(2, 2), padding=(1, 1))\n",
       "    (6): InstanceNorm2d(256, eps=1e-05, momentum=0.1, affine=False, track_running_stats=False)\n",
       "    (7): LeakyReLU(negative_slope=0.02)\n",
       "    (8): Conv2d(256, 512, kernel_size=(4, 4), stride=(1, 1), padding=(1, 1))\n",
       "    (9): InstanceNorm2d(512, eps=1e-05, momentum=0.1, affine=False, track_running_stats=False)\n",
       "    (10): LeakyReLU(negative_slope=0.02)\n",
       "    (11): ZeroPad2d(padding=(1, 0, 1, 0), value=0.0)\n",
       "    (12): Conv2d(512, 1, kernel_size=(4, 4), stride=(2, 2), padding=(1, 1))\n",
       "  )\n",
       ")"
      ]
     },
     "execution_count": 11,
     "metadata": {},
     "output_type": "execute_result"
    }
   ],
   "source": [
    "batch_size = 1\n",
    "Generator_XY = Generator(0)\n",
    "Generator_YX = Generator(0)\n",
    "Discriminator_X = Discriminator(0)\n",
    "Discriminator_Y = Discriminator(0)\n",
    "\n",
    "Generator_XY.apply(weights_init)\n",
    "Generator_YX.apply(weights_init)\n",
    "Discriminator_X.apply(weights_init)\n",
    "Discriminator_Y.apply(weights_init)"
   ]
  },
  {
   "cell_type": "code",
   "execution_count": 12,
   "metadata": {},
   "outputs": [],
   "source": [
    "# Losses\n",
    "Loss_GAN = torch.nn.MSELoss()\n",
    "Loss_cycle = torch.nn.L1Loss()\n",
    "Loss_identity = torch.nn.L1Loss()"
   ]
  },
  {
   "cell_type": "code",
   "execution_count": 13,
   "metadata": {},
   "outputs": [],
   "source": [
    "# create real & fake for patchgan, we set output of discriminator to 16x16\n",
    "valid = Variable(torch.ones(16,16),requires_grad=False)\n",
    "fake = Variable(torch.zeros(16,16), requires_grad=False)"
   ]
  },
  {
   "cell_type": "markdown",
   "metadata": {},
   "source": [
    "In paper it is mentionned <i>We train our networks from scratch, with a learning rate of 0.0002. In practice, we divide the objective by 2 while optimizing D, which slows down the rate at which D learns, relative to the rate of G. We keep the same learning rate for the first 100 epochs and linearly decay the rate to zero over the next 100 epochs.</i>"
   ]
  },
  {
   "cell_type": "code",
   "execution_count": 14,
   "metadata": {},
   "outputs": [],
   "source": [
    "from torch.optim import lr_scheduler\n",
    "\n",
    "def update_lr(epoch):\n",
    "    if epoch<101:\n",
    "        learning_rate = 0.0002\n",
    "    else:\n",
    "        learning_rate = (0.0002*((200.0-float(epoch))/100.0))\n",
    "            #lr_l = 1.0 - max(0, epoch + opt.epoch_count - opt.niter) / float(opt.niter_decay + 1)\n",
    "    return learning_rate\n",
    "\n",
    "\n",
    "\n",
    "#torch.optim.lr_scheduler.LambdaLR(optimizer, lr_lambda, last_epoch=-1)"
   ]
  },
  {
   "cell_type": "code",
   "execution_count": 15,
   "metadata": {},
   "outputs": [],
   "source": [
    "import itertools\n",
    "# the paper mentions the usage of Adam optimizer\n",
    "optimizer_G = torch.optim.Adam(\n",
    "    itertools.chain(Generator_XY.parameters(), Generator_YX.parameters()), lr=0.0002, betas=(0.5, 0.999))\n",
    "optimizer_D_X = torch.optim.Adam(Discriminator_X.parameters(), lr=0.002, betas=(0.5, 0.999))\n",
    "optimizer_D_Y = torch.optim.Adam(Discriminator_Y.parameters(), lr=0.002, betas=(0.5, 0.999))\n",
    "\n",
    "\n",
    "\n",
    "scheduler_G = lr_scheduler.LambdaLR(optimizer_G, lr_lambda=update_lr)\n",
    "scheduler_D_X = lr_scheduler.LambdaLR(optimizer_D_X, lr_lambda=update_lr)\n",
    "scheduler_D_Y = lr_scheduler.LambdaLR(optimizer_D_Y, lr_lambda=update_lr)"
   ]
  },
  {
   "cell_type": "markdown",
   "metadata": {},
   "source": [
    "Let's create a dataloader of pictures:"
   ]
  },
  {
   "cell_type": "code",
   "execution_count": 16,
   "metadata": {},
   "outputs": [],
   "source": [
    "from torch.utils.data import DataLoader\n",
    "from torchvision import datasets\n",
    "import torchvision.transforms as transforms\n",
    "\n",
    "\n",
    "# Image transformations\n",
    "transforms_set = transforms.Compose([\n",
    "    transforms.RandomHorizontalFlip(),\n",
    "    transforms.ToTensor(),\n",
    "    transforms.Normalize((0.5, 0.5, 0.5), (0.5, 0.5, 0.5)),\n",
    "])\n",
    "\n",
    "\n",
    "train_set = datasets.ImageFolder(root=\"./monet2photo/\",transform=transforms_set)\n",
    "train_loader = torch.utils.data.DataLoader(train_set, batch_size=batch_size, shuffle=True, num_workers=2)\n"
   ]
  },
  {
   "cell_type": "code",
   "execution_count": 17,
   "metadata": {},
   "outputs": [
    {
     "name": "stdout",
     "output_type": "stream",
     "text": [
      "['testA', 'testB', 'trainA', 'trainB']\n"
     ]
    }
   ],
   "source": [
    "print(train_set.classes) # testA -> label 0 ; testB -> label 1"
   ]
  },
  {
   "cell_type": "markdown",
   "metadata": {},
   "source": [
    "We created a dataloader containing the full sets of images (train and test). We are now subdivise in 4 dataloaders containing test and train from domain X and Y."
   ]
  },
  {
   "cell_type": "code",
   "execution_count": 18,
   "metadata": {},
   "outputs": [],
   "source": [
    "def get_indices(dataset,class_name):\n",
    "    indices =  []\n",
    "    for i in range(len(dataset.targets)):\n",
    "        if dataset.targets[i] == class_name:\n",
    "            indices.append(i)\n",
    "    return indices\n",
    "\n",
    "\n",
    "idx = get_indices(train_set, 0) # get only picture from testA folder\n",
    "dataloader_testX = torch.utils.data.DataLoader(train_set,batch_size=1, sampler = torch.utils.data.sampler.SubsetRandomSampler(idx))\n",
    "\n",
    "idx = get_indices(train_set, 1) # get only picture from testB folder\n",
    "dataloader_testY = torch.utils.data.DataLoader(train_set,batch_size=1, sampler = torch.utils.data.sampler.SubsetRandomSampler(idx))\n",
    "\n",
    "idx = get_indices(train_set, 2) # get only picture from trainA folder\n",
    "dataloader_trainX = torch.utils.data.DataLoader(train_set,batch_size=1, sampler = torch.utils.data.sampler.SubsetRandomSampler(idx))\n",
    "\n",
    "idx = get_indices(train_set, 3) # get only picture from trainB folder\n",
    "dataloader_trainY = torch.utils.data.DataLoader(train_set,batch_size=1, sampler = torch.utils.data.sampler.SubsetRandomSampler(idx))\n",
    "\n"
   ]
  },
  {
   "cell_type": "markdown",
   "metadata": {},
   "source": [
    "Just for information:"
   ]
  },
  {
   "cell_type": "code",
   "execution_count": 19,
   "metadata": {},
   "outputs": [
    {
     "name": "stdout",
     "output_type": "stream",
     "text": [
      "Pictures in train set from Monet pictures (X): 1072\n",
      "Pictures in train set from real pictures (Y): 6287\n",
      "Pictures in test set from Monet pictures (X): 121\n",
      "Pictures in test set from real pictures (Y): 121\n"
     ]
    }
   ],
   "source": [
    "print(f\"Pictures in train set from Monet pictures (X): {len(dataloader_trainX)}\")\n",
    "print(f\"Pictures in train set from real pictures (Y): {len(dataloader_trainY)}\")\n",
    "print(f\"Pictures in test set from Monet pictures (X): {len(dataloader_testX)}\")\n",
    "print(f\"Pictures in test set from real pictures (Y): {len(dataloader_testX)}\")"
   ]
  },
  {
   "cell_type": "markdown",
   "metadata": {},
   "source": [
    "here is how to iterate over two dataloader of different size:"
   ]
  },
  {
   "cell_type": "code",
   "execution_count": 20,
   "metadata": {},
   "outputs": [
    {
     "name": "stdout",
     "output_type": "stream",
     "text": [
      "1071\n",
      "6286\n"
     ]
    }
   ],
   "source": [
    "from itertools import cycle\n",
    "\n",
    "\n",
    "#will stop when smaller dataloader reach its last element\n",
    "for i, data in enumerate(zip(dataloader_trainX, dataloader_trainY)):\n",
    "    next\n",
    "print(i)\n",
    "\n",
    "#will stop when last element of bigger dataloader is reached using cycle over smaller dataloader\n",
    "for i, data in enumerate(zip(cycle(dataloader_trainX), dataloader_trainY)):\n",
    "    next\n",
    "    \n",
    "print(i)"
   ]
  },
  {
   "cell_type": "markdown",
   "metadata": {},
   "source": [
    "A single implementation would be:\n",
    "- Get a real image true_X from X dataset.\n",
    "- Get a real image true_Y from Y dataset.\n",
    "- Generate fake_Y => Generator_XY(X)\n",
    "- Generate fake_XX => Generator_YX(Y)\n",
    "- Calculate gan_loss(discriminator_Y(fake_Y,1)) and gan_loss(discriminator_X(fake_X,1)), fake the dsicriminators..\n",
    "- Calculate cycle_loss(GeneratorXY(Fake_X),true_Y) and cycle_loss(GeneratorYX(Fake_Y),true_X)\n",
    "- Calculate identity_loss(Generator_XY(true_X),true_X) and identity_loss(Generator_YX(true_Y),true_Y)\n",
    "- Cumulate all previous loss calculated and train Generator_XY and Generator_YX\n",
    "- Train Dicsriminator_X and DiscriminatorY will loss_real(discriminator_X(true_X),1) and loss_fake(discriminator_X(fake_X),0)\n"
   ]
  },
  {
   "cell_type": "markdown",
   "metadata": {},
   "source": [
    "The pool of image is also specific to the paper, here are the instructions:<i>To reduce model oscillation (...) we update the discriminators using a history of generated images rather than the ones produced by the latest generators. We keep an image buffer that stores the 50 previously created images.</i>"
   ]
  },
  {
   "cell_type": "code",
   "execution_count": 21,
   "metadata": {},
   "outputs": [],
   "source": [
    "from random import *\n",
    "\n",
    "# return the current images if the list of previousely creates images are <50\n",
    "# return a random image if list of stored images is >=50 and store the image in parameter.\n",
    "def manage_generated_images(generated_batch,image):\n",
    "    if (len(generated_batch)<50):\n",
    "        generated_batch.append(image)\n",
    "        select = image\n",
    "    elif (random()<0.5):\n",
    "        select = image\n",
    "    else:\n",
    "        idx = randint(0,len(generated_batch)-1)\n",
    "        select = generated_batch[idx] \n",
    "        generated_batch[idx]=image # replace existing image\n",
    "    return select\n",
    "        \n",
    "generated_batch = list()\n",
    "\n",
    "\n"
   ]
  },
  {
   "cell_type": "markdown",
   "metadata": {},
   "source": [
    "## 2.2 Full training ##"
   ]
  },
  {
   "cell_type": "markdown",
   "metadata": {},
   "source": [
    "We need, at specified interval, generate picture to X and Y domain to check how the training is doing, saving the models periodically is also a good thing."
   ]
  },
  {
   "cell_type": "code",
   "execution_count": 23,
   "metadata": {},
   "outputs": [],
   "source": [
    "from torchvision.utils import save_image, make_grid\n",
    "#from google.colab import files\n",
    "\n",
    "def sample_images(batch,epoch):\n",
    "    \n",
    "    dataloader_testX\n",
    "    dataloader_testY\n",
    "    \n",
    "    \n",
    "    pic_X = next(iter(dataloader_testX)) # will return a random picture from the dataloader, see https://pytorch.org/tutorials/beginner/transfer_learning_tutorial.html#visualize-a-few-images\n",
    "    pic_Y = next(iter(dataloader_testY))\n",
    "    Generator_XY.eval()\n",
    "    Generator_YX.eval()\n",
    "    \n",
    "    real_X = Variable(pic_X[0])\n",
    "    real_X=real_X.to(0)\n",
    "\n",
    "    fake_Y = Generator_XY(real_X)\n",
    "                      \n",
    "    real_Y = Variable(pic_Y[0])\n",
    "    real_Y=real_Y.to(0)\n",
    "    fake_X = Generator_YX(real_Y)\n",
    "    \n",
    "    \n",
    "    real_X = make_grid(real_X, nrow=5, normalize=True)\n",
    "    real_Y = make_grid(real_Y, nrow=5, normalize=True)\n",
    "    fake_X = make_grid(fake_X, nrow=5, normalize=True)\n",
    "    fake_Y = make_grid(fake_Y, nrow=5, normalize=True)\n",
    "    image_grid = torch.cat((real_X, fake_Y, real_Y, fake_X), 1)\n",
    "    save_image(image_grid, \"result_e%d_b%d.png\"%(epoch,batch), normalize=False)\n",
    "    files.download(\"./result_e%d_b%d.png\"%(epoch,batch))"
   ]
  },
  {
   "cell_type": "code",
   "execution_count": 43,
   "metadata": {},
   "outputs": [],
   "source": [
    "def save_models(batch,epoch):\n",
    "    torch.save(Generator_XY.state_dict(), \"./Generator_XY_e%d_b%d.pth\" % (epoch, batch))\n",
    "    torch.save(Generator_YX.state_dict(), \"./Generator_YX_e%d_b%d.pth\" % (epoch, batch))\n",
    "    torch.save(Discriminator_X.state_dict(), \"./Discriminator_X_e%d_b%d.pth\" % (epoch, batch))\n",
    "    torch.save(Discriminator_Y.state_dict(), \"./Discriminator_Y_e%d_b%d.pth\" % (epoch, batch))"
   ]
  },
  {
   "cell_type": "code",
   "execution_count": 24,
   "metadata": {},
   "outputs": [
    {
     "name": "stderr",
     "output_type": "stream",
     "text": [
      "/usr/local/lib/python3.7/site-packages/torch/nn/modules/loss.py:443: UserWarning: Using a target size (torch.Size([16, 16])) that is different to the input size (torch.Size([1, 1, 16, 16])). This will likely lead to incorrect results due to broadcasting. Please ensure they have the same size.\n",
      "  return F.mse_loss(input, target, reduction=self.reduction)\n"
     ]
    },
    {
     "name": "stdout",
     "output_type": "stream",
     "text": [
      "\r",
      "[Epoch 0/1] [Batch 0] [total_loss_gan: 2.6127943992614746] [total_id_loss: 0.5821866393089294] [total_cycle_loss: 0.6063520908355713] [total_loss_D_X: 1.8399322032928467] [total_loss_D_Y: 1.7634313106536865]\n"
     ]
    }
   ],
   "source": [
    "nb_epoch = 200\n",
    "lambda1=10\n",
    "lambda2=5 # as noted in paper\n",
    "\n",
    "batch_fake_X = list()\n",
    "batch_fake_Y = list()\n",
    "\n",
    "for epoch in range(nb_epoch):\n",
    "    for i, data in enumerate(zip(cycle(dataloader_trainX), dataloader_trainY)):\n",
    "        \n",
    "        true_X = Variable(data[0][0])\n",
    "        true_Y = Variable(data[1][0])\n",
    "         \n",
    "        #train generator -------------\n",
    "        optimizer_G.zero_grad()\n",
    "        # GAN loss ----------\n",
    "        fake_X = Generator_YX(true_Y)\n",
    "        loss_GAN_X = Loss_GAN(Discriminator_X(fake_X), valid)\n",
    "        \n",
    "        fake_Y = Generator_XY(true_X)\n",
    "        loss_GAN_Y = Loss_GAN(Discriminator_Y(fake_Y), valid)\n",
    "        \n",
    "        total_loss_gan = 0.5*(loss_GAN_X+loss_GAN_Y)\n",
    "        #-----------------\n",
    "        \n",
    "        # cycle loss -------\n",
    "        recov_X = Generator_YX(fake_Y)\n",
    "        loss_cycle_X = Loss_cycle(recov_X, true_X)\n",
    "        \n",
    "        recov_Y = Generator_XY(fake_X)\n",
    "        loss_cycle_Y = Loss_cycle(recov_Y, true_Y)\n",
    "        \n",
    "        total_cycle_loss = 0.5 * (loss_cycle_X + loss_cycle_Y)\n",
    "        # -------------------\n",
    "        \n",
    "        \n",
    "        # identity loss -------\n",
    "        loss_id_X = Loss_identity(Generator_YX(true_X), true_X)\n",
    "        \n",
    "        loss_id_Y = Loss_identity(Generator_XY(true_Y), true_Y)\n",
    "        \n",
    "        total_id_loss = 0.5 * (loss_id_X + loss_id_Y)\n",
    "        #----------------------\n",
    "        \n",
    "        total_loss = total_loss_gan + lambda1*total_cycle_loss + lambda2*total_id_loss\n",
    "        \n",
    "        total_loss.backward()\n",
    "        optimizer_G.step()\n",
    "        \n",
    "        \n",
    "        \n",
    "        #train discriminators ------\n",
    "        optimizer_D_X.zero_grad()\n",
    "        #optimizer_D_Y.zero_grad()\n",
    "        \n",
    "        # get picture from fake pools so that discriminators will not improve too much compare to generators\n",
    "        fake_X_2 = manage_generated_images(batch_fake_X,fake_X)\n",
    "        fake_Y_2 = manage_generated_images(batch_fake_Y,fake_Y)\n",
    "        \n",
    "        # train discriminator on real and fake\n",
    "        loss_real_X = Loss_GAN(Discriminator_X(true_X), valid)\n",
    "        loss_real_Y = Loss_GAN(Discriminator_Y(true_Y), valid)\n",
    "        \n",
    "        loss_fake_X = Loss_GAN(Discriminator_X(fake_X_2.detach()), fake) #detach the variable from its origin graph is needed otherwise error\n",
    "        loss_fake_Y = Loss_GAN(Discriminator_Y(fake_Y_2.detach()), fake)             \n",
    "        # Total loss\n",
    "        total_loss_D_X = 0.5*(loss_real_X + loss_fake_X)\n",
    "        total_loss_D_Y = 0.5*(loss_real_Y + loss_fake_Y)   \n",
    "        \n",
    "        \n",
    "        # backpropagation\n",
    "        total_loss_D_X.backward()\n",
    "        optimizer_D_X.step()\n",
    "        \n",
    "        total_loss_D_Y.backward()\n",
    "        optimizer_D_Y.step()\n",
    "        \n",
    "        # Print log\n",
    "        print(f\"\\r[Epoch {epoch}/{nb_epoch}] [Batch {i}] [total_loss_gan: {total_loss_gan}] [total_id_loss: {total_id_loss}] [total_cycle_loss: {total_cycle_loss}] [total_loss_D_X: {total_loss_D_X}] [total_loss_D_Y: {total_loss_D_Y}]\")\n",
    "        \n",
    "        if (i%30==0):\n",
    "            sample_images(i,epoch)\n",
    "            \n",
    "        if (i%500==0):\n",
    "            save_models(i,epoch)\n",
    "        \n",
    "        if i==0:\n",
    "            break\n",
    "    \n",
    "    # Update learning rates\n",
    "    scheduler_G.step()\n",
    "    scheduler_D_X.step()\n",
    "    scheduler_D_Y.step()\n",
    "    \n",
    "        \n",
    "        \n",
    "        \n",
    "        \n",
    "        \n",
    "        \n",
    "        \n",
    "        \n",
    "        "
   ]
  },
  {
   "cell_type": "code",
   "execution_count": null,
   "metadata": {},
   "outputs": [],
   "source": []
  }
 ],
 "metadata": {
  "kernelspec": {
   "display_name": "Python 3",
   "language": "python",
   "name": "python3"
  },
  "language_info": {
   "codemirror_mode": {
    "name": "ipython",
    "version": 3
   },
   "file_extension": ".py",
   "mimetype": "text/x-python",
   "name": "python",
   "nbconvert_exporter": "python",
   "pygments_lexer": "ipython3",
   "version": "3.7.4"
  }
 },
 "nbformat": 4,
 "nbformat_minor": 2
}
